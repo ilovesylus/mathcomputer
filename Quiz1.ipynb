{
  "cells": [
    {
      "cell_type": "markdown",
      "metadata": {
        "id": "view-in-github",
        "colab_type": "text"
      },
      "source": [
        "<a href=\"https://colab.research.google.com/github/ilovesylus/mathcomputer/blob/main/Quiz1.ipynb\" target=\"_parent\"><img src=\"https://colab.research.google.com/assets/colab-badge.svg\" alt=\"Open In Colab\"/></a>"
      ]
    },
    {
      "cell_type": "markdown",
      "metadata": {
        "id": "S43Yd0de2REp"
      },
      "source": [
        "# Computer Programming Quiz 1"
      ]
    },
    {
      "cell_type": "markdown",
      "metadata": {
        "id": "A4_QjCdg2REu"
      },
      "source": [
        "#### Student ID: B132045005\n",
        "\n",
        "#### Name: 李子玉"
      ]
    },
    {
      "cell_type": "markdown",
      "metadata": {
        "id": "hU-j67b--fi_"
      },
      "source": [
        "## A.\tSingle Choice Questions (4%, 48%)"
      ]
    },
    {
      "cell_type": "markdown",
      "metadata": {
        "id": "4kgGFftfMMhL"
      },
      "source": [
        "### (1) Which of the following expressions, when evaluated in a Python control flow condition, returns a Boolean value that differs from the others?\n",
        "\n",
        "(A) `[]`\n",
        "\n",
        "(B) `None`\n",
        "\n",
        "(C) `\"None\"`\n",
        "\n",
        "(D) `2 > 5 or 4 < 3`"
      ]
    },
    {
      "cell_type": "markdown",
      "metadata": {
        "id": "iGh60Z0j2REy"
      },
      "source": [
        "> Ans: C"
      ]
    },
    {
      "cell_type": "markdown",
      "metadata": {
        "id": "jfjOG4GmbbOn"
      },
      "source": [
        "### (2) Which of the following statements is false?\n",
        "\n",
        "(A) Python’s built-in function `type()` returns the data type of an object.\n",
        "\n",
        "(B) In a function call, the parentheses following the function name enclose the function’s arguments — that is, the data the function requires to perform its task.\n",
        "\n",
        "(C) Python is case sensitive; therefore, the identifiers `pokemon` and `Pokemon` may refer to different objects.\n",
        "\n",
        "(D) A function is executed by writing its name followed by curly braces `{}`."
      ]
    },
    {
      "cell_type": "markdown",
      "metadata": {
        "id": "q-esSq79bxT5"
      },
      "source": [
        "> Ans: D"
      ]
    },
    {
      "cell_type": "markdown",
      "metadata": {
        "id": "K7cKh2qM4bUu"
      },
      "source": [
        "### (3) Which of the following statements is true?\n",
        "\n",
        "(A) Python uses the `^` operator to raise one value to the power of another (e.g., `2 ^ 10`).  \n",
        "\n",
        "(B) The value of the expression `7.5 // 3` is 2.5.  \n",
        "\n",
        "(C) The literal `2e5` represents `32.0` in Python.\n",
        "\n",
        "(D) Python uses indentation to define code blocks."
      ]
    },
    {
      "cell_type": "markdown",
      "metadata": {
        "id": "q2hQwIsx2REx"
      },
      "source": [
        "> Ans: D"
      ]
    },
    {
      "cell_type": "markdown",
      "metadata": {
        "id": "-FOoLn6N2REz"
      },
      "source": [
        "### (4) Which of the following statements is False regarding Python control flow?\n",
        "\n",
        "(A) All statements within a loop body must be indented to the same level.\n",
        "\n",
        "(B) A while loop is recommended when you know in advance how many times you want the loop to execute.\n",
        "\n",
        "(C) Both `continue` and `break` can be used to control iterations in `for` and `while` loops.\n",
        "\n",
        "(D) Calling `sys.exit()` will terminate the program immediately, regardless of pending instructions."
      ]
    },
    {
      "cell_type": "markdown",
      "metadata": {
        "id": "1HdWhzeZ2REz"
      },
      "source": [
        "> Ans: B"
      ]
    },
    {
      "cell_type": "markdown",
      "metadata": {
        "id": "zwH348yXZP94"
      },
      "source": [
        "### (5) Which of the following statements about sets and dictionaries in Python is True?\n",
        "\n",
        "(A) Sets are ordered collections, so you can access elements by index using square brackets.\n",
        "\n",
        "(B) Dictionary keys can be any type, including mutable types like lists.\n",
        "\n",
        "(C) The `set()` function returns an empty set, whereas `{}` creates an empty dictionary.\n",
        "\n",
        "(D) Both sets and dictionaries support indexing and slicing using square brackets."
      ]
    },
    {
      "cell_type": "markdown",
      "metadata": {
        "id": "5tKM3rtNwr3a"
      },
      "source": [
        "> Ans: C"
      ]
    },
    {
      "cell_type": "markdown",
      "metadata": {
        "id": "2hQx9s8IRITn"
      },
      "source": [
        "### (6) Which of the following statements is true?\n",
        "\n",
        "(A) The `random.randint(1, 5)` function call will randomly generate integers from 1 to 4.\n",
        "\n",
        "(B) The expression `list(range(1, 5))` returns the list `[1, 2, 3, 4, 5]`.\n",
        "\n",
        "(C) If a function has no `return` statement, it implicitly returns `None` after executing its last statement.\n",
        "\n",
        "(D) In function definitions, parameters with default values must always be placed on the leftmost side of the parameter list."
      ]
    },
    {
      "cell_type": "markdown",
      "metadata": {
        "id": "vR-_PIvSTInU"
      },
      "source": [
        "> Ans: C"
      ]
    },
    {
      "cell_type": "markdown",
      "metadata": {
        "id": "59tvrWGc2REx"
      },
      "source": [
        "### (7) What does the following line of code display?\n",
        "\n",
        "```python\n",
        "print(20, 30, 40, sep='; ')\n",
        "```\n",
        "\n",
        "(A) 203040\n",
        "\n",
        "(B) 20;30;40\n",
        "\n",
        "(C) 20; 30; 40\n",
        "\n",
        "(D) 20 30 40"
      ]
    },
    {
      "cell_type": "markdown",
      "metadata": {
        "id": "YcKgpEcawr3h"
      },
      "source": [
        "> Ans: C"
      ]
    },
    {
      "cell_type": "markdown",
      "metadata": {
        "id": "llVRpBEfXx8w"
      },
      "source": [
        "### (8) Which of the following statements is false?\n",
        "\n",
        "(A) A local variable is accessible only within the function that defines it.\n",
        "\n",
        "(B) A function can access a global variable's value without any special declaration.\n",
        "\n",
        "(C) To modify a global variable inside a function, you must declare it with the `global` keyword.\n",
        "\n",
        "(D) Using the asterisk (`*`) in an `import` statement imports every function from a module, and this practice is recommended for larger modules."
      ]
    },
    {
      "cell_type": "markdown",
      "metadata": {
        "id": "5ng60M1RZIiH"
      },
      "source": [
        "> Ans: D"
      ]
    },
    {
      "cell_type": "markdown",
      "metadata": {
        "id": "tCv5j3HvcQu8"
      },
      "source": [
        "### (9) Which of the following is not a correct way to create a string in `Python`?\n",
        "\n",
        "(A) `\"nsysu\"`\n",
        "\n",
        "(B) `'nsysu'`\n",
        "\n",
        "(C) `\"\"\" nsysu \"\"\"`\n",
        "\n",
        "(D) `str(nsysu)`"
      ]
    },
    {
      "cell_type": "markdown",
      "metadata": {
        "id": "wQhhAsO1ddm6"
      },
      "source": [
        "> Ans: D"
      ]
    },
    {
      "cell_type": "markdown",
      "metadata": {
        "id": "JAXPS7xzdf0a"
      },
      "source": [
        "### (10) Assume we have a list `x = ['m','a','t','h']`, what is the result of `x[::-1]`?\n",
        "\n",
        "(A) `['m','a','t','h']`\n",
        "\n",
        "(B) `'h'`\n",
        "\n",
        "(C) `['m','a','t']`\n",
        "\n",
        "(D) `['h','t','a','m']`"
      ]
    },
    {
      "cell_type": "markdown",
      "metadata": {
        "id": "h5nxvGEQfqsJ"
      },
      "source": [
        "> Ans: D"
      ]
    },
    {
      "cell_type": "markdown",
      "metadata": {
        "id": "13s-26KIwr3q"
      },
      "source": [
        "### (11) Assume the following assignment statements are executed in Python, and the user inputs an integer:\n",
        "```python\n",
        "spam1 = input()\n",
        "spam2 = int(spam1)/5\n",
        "spam3 = spam2 + 18\n",
        "\n",
        "```\n",
        "What are the data types of the variables `spam1`, `spam2`, and `spam3`, respectively?\n",
        "\n",
        "(A) int, int, int   \n",
        "\n",
        "(B) str, int, int\n",
        "\n",
        "(C) str, float, float   \n",
        "\n",
        "(D) str, float, int"
      ]
    },
    {
      "cell_type": "markdown",
      "metadata": {
        "id": "gJF-xL0swr3q"
      },
      "source": [
        "> Ans: C"
      ]
    },
    {
      "cell_type": "markdown",
      "metadata": {
        "id": "3GzNqoWdf-uo"
      },
      "source": [
        "### (12) Which of the following statements is false?\n",
        "\n",
        "(A) Dividing by zero results in a runtime error.\n",
        "\n",
        "(B) Omitting a closing parenthesis when calling a function produces a syntax error.\n",
        "\n",
        "(C) Misspelling a function name is considered a semantic error.\n",
        "\n",
        "(D) Misunderstanding the order of operations when writing code constitutes a semantic error."
      ]
    },
    {
      "cell_type": "markdown",
      "metadata": {
        "id": "cvYR58-4gr7u"
      },
      "source": [
        "> Ans: C"
      ]
    },
    {
      "cell_type": "markdown",
      "metadata": {
        "id": "IKA-mIPT-Xhs"
      },
      "source": [
        "## B.\tShort-answer and coding questions"
      ]
    },
    {
      "cell_type": "markdown",
      "metadata": {
        "id": "s4zY6OlnHeCc"
      },
      "source": [
        "### (13)  Write a program that prompts the user to enter a distance in centimeters (assume the input is a positive integer of at least 100,000). Convert this distance into kilometers, meters, and remaining centimeters. Print the result in the following format: (10%)\n",
        "\n",
        "```\n",
        "<kilometers> km - <meters> m - <centimeters> cm\n",
        "```\n",
        "For example, if the user inputs 123456 centimeters, the program should calculate and print:\n",
        "\n",
        "```\n",
        "1 km - 234 m - 56 cm\n",
        "```\n",
        "\n",
        "Hint: Use the floor division and the remainder operation to calculate the number of hours, minutes, and seconds."
      ]
    },
    {
      "cell_type": "code",
      "execution_count": null,
      "metadata": {
        "id": "085nnTE0HeCc",
        "outputId": "a04fd07d-0ce5-4e14-e8c8-e5e9c1d777f2"
      },
      "outputs": [
        {
          "name": "stdout",
          "output_type": "stream",
          "text": [
            "1 km - 234 m - 56 cm\n"
          ]
        }
      ],
      "source": [
        "# Your code here"
      ]
    },
    {
      "cell_type": "code",
      "source": [
        "centimeters = int(input(\"Enter a distance in centimeters (at least 100,000): \"))\n",
        "\n",
        "kilometers = centimeters // 100000\n",
        "meters = (centimeters % 100000) // 100\n",
        "remaining_centimeters = centimeters % 100\n",
        "\n",
        "print(f\"{kilometers} km - {meters} m - {remaining_centimeters} cm\")"
      ],
      "metadata": {
        "colab": {
          "base_uri": "https://localhost:8080/"
        },
        "id": "73OaU7idM8V2",
        "outputId": "3b2441aa-1ec1-467c-bd26-8d5f70a7328a"
      },
      "execution_count": null,
      "outputs": [
        {
          "output_type": "stream",
          "name": "stdout",
          "text": [
            "Enter a distance in centimeters (at least 100,000): 123456\n",
            "1 km - 234 m - 56 cm\n"
          ]
        }
      ]
    },
    {
      "cell_type": "markdown",
      "metadata": {
        "id": "R1WmAgDn2REz"
      },
      "source": [
        "### (14)   Write programs that display the following triangle patterns using `for` loops. (10%)\n",
        "\n",
        "Hint: You can display a hash symbol using:\n",
        "\n",
        "```python\n",
        "print('#', end='')\n",
        "````"
      ]
    },
    {
      "cell_type": "markdown",
      "metadata": {
        "id": "vqq19iu5wr3s"
      },
      "source": [
        "(a)\n",
        "\n",
        "```\n",
        "    #\n",
        "   ###\n",
        "  #####\n",
        " #######\n",
        "#########\n",
        "```\n",
        "\n",
        "(b)\n",
        "\n",
        "```\n",
        "#########\n",
        " #######\n",
        "  #####\n",
        "   ###\n",
        "    #\n",
        "```"
      ]
    },
    {
      "cell_type": "code",
      "execution_count": null,
      "metadata": {
        "id": "EUsT1kfZwr3t",
        "outputId": "64e91a1f-ca5e-48ff-e0a2-13f46309c190",
        "colab": {
          "base_uri": "https://localhost:8080/"
        }
      },
      "outputs": [
        {
          "output_type": "stream",
          "name": "stdout",
          "text": [
            "    #\n",
            "   ###\n",
            "  #####\n",
            " #######\n",
            "#########\n"
          ]
        }
      ],
      "source": [
        "# Your code here\n",
        "\n",
        "rows = 5\n",
        "\n",
        "for i in range(1, rows + 1):\n",
        "    print(' ' * (rows - i), end='')\n",
        "    print('#' * (2 * i - 1))\n"
      ]
    },
    {
      "cell_type": "code",
      "execution_count": null,
      "metadata": {
        "id": "vp5KERtTwr3u",
        "outputId": "2913333d-809f-400e-ec02-78c2864d9ec1",
        "colab": {
          "base_uri": "https://localhost:8080/"
        }
      },
      "outputs": [
        {
          "output_type": "stream",
          "name": "stdout",
          "text": [
            "#########\n",
            " #######\n",
            "  #####\n",
            "   ###\n",
            "    #\n"
          ]
        }
      ],
      "source": [
        "# Your code here\n",
        "rows = 5\n",
        "\n",
        "for i in range(rows, 0, -1):\n",
        "    print(' ' * (rows - i), end='')\n",
        "    print('#' * (2 * i - 1))\n"
      ]
    },
    {
      "cell_type": "markdown",
      "metadata": {
        "id": "rEZzM3Q9HeCd"
      },
      "source": [
        "### (15) Write a program that computes the value of π using the Nilakantha series. The series is given by (10%):\n",
        "\n",
        "$$ \\pi = 3 + \\sum_{n=1}^{\\infty} (-1)^{n+1} \\cdot \\frac{4}{(2n)(2n+1)(2n+2)} $$\n",
        "\n",
        "Your task is to write a program that keeps adding terms from the series until the absolute error (i.e., the difference between your computed value and `math.pi`) is less than $10^{-3}$. Finally, print the computed value of π along with the number of terms used, separated by a dash. For example, the output might look like:\n",
        "\n",
        "```\n",
        "3.1416 - 2000\n",
        "```\n",
        "\n",
        "*Hint:*  \n",
        "- Use `math.pi` from the Python `math` module as the ground truth value.  \n",
        "- Use the `abs()` function to calculate the error.  \n",
        "- The first term of the series (for $ n = 1 $) is $ \\frac{4}{2 \\times 3 \\times 4} $."
      ]
    },
    {
      "cell_type": "code",
      "execution_count": null,
      "metadata": {
        "id": "hnqdGFipHeCd"
      },
      "outputs": [],
      "source": [
        "import math\n",
        "\n",
        "# Your code here"
      ]
    },
    {
      "cell_type": "code",
      "source": [
        "import math\n",
        "\n",
        "def compute_pi():\n",
        "    # 初始值，Nilakantha 公式的起始值是 3\n",
        "    pi_estimate = 3\n",
        "    n = 1\n",
        "    terms_used = 0\n",
        "\n",
        "    # 一直迭代直到誤差小於 10^-3\n",
        "    while True:\n",
        "        # 計算 Nilakantha 公式中的當前項目\n",
        "        term = 4 / (2 * n * (2 * n + 1) * (2 * n + 2))\n",
        "\n",
        "        # 如果 n 是奇數，則加上當前項，偶數則減去\n",
        "        if n % 2 == 1:\n",
        "            pi_estimate += term\n",
        "        else:\n",
        "            pi_estimate -= term\n",
        "\n",
        "        # 計算當前誤差\n",
        "        terms_used += 1\n",
        "\n",
        "        # 如果誤差小於 10^-3，則停止\n",
        "        if abs(pi_estimate - math.pi) < 10**-3:\n",
        "            break\n",
        "\n",
        "        # 增加 n 來進行下一輪計算\n",
        "        n += 1\n",
        "\n",
        "    # 輸出最終計算結果，精確到小數點後 4 位\n",
        "    print(f\"{pi_estimate:.4f} - {terms_used}\")\n",
        "\n",
        "# 呼叫函數\n",
        "compute_pi()\n"
      ],
      "metadata": {
        "colab": {
          "base_uri": "https://localhost:8080/"
        },
        "id": "nU1Iwyx0Rwi3",
        "outputId": "10d2e0ce-f894-4584-cc2a-869fdc40fd96"
      },
      "execution_count": null,
      "outputs": [
        {
          "output_type": "stream",
          "name": "stdout",
          "text": [
            "3.1409 - 6\n"
          ]
        }
      ]
    },
    {
      "cell_type": "markdown",
      "metadata": {
        "id": "IZxJiaExitKu"
      },
      "source": [
        "> Ans: 3.1409 - 6"
      ]
    },
    {
      "cell_type": "markdown",
      "metadata": {
        "id": "EXTsmtaoHeCd"
      },
      "source": [
        "We need 6 terms in order to get the error below $10^{-3}$"
      ]
    },
    {
      "cell_type": "markdown",
      "metadata": {
        "id": "8pBqFykejV6l"
      },
      "source": [
        "### (16) Here, we will simulate the process of a simple card game. The game is played with a standard deck of 52 cards, and we will randomly select 20 cards and divide them evenly between two players. Each player gets a hand of 10 cards. The goal of the game is to determine whether the player got a flush (i.e., at least five cards of the same suit) or not in his 10 cards. If any suit appears five or more times, please return `True`. Otherwise, return `False`. Please complete the following game design by filling in the missing part in the function. (12%)."
      ]
    },
    {
      "cell_type": "code",
      "execution_count": null,
      "metadata": {
        "id": "1Z03UA-kHeCg"
      },
      "outputs": [],
      "source": [
        "import random\n",
        "\n",
        "RANKS = [\"A\", \"2\", \"3\", \"4\", \"5\", \"6\", \"7\", \"8\", \"9\", \"10\", \"J\", \"Q\", \"K\"]\n",
        "\n",
        "def create_deck():\n",
        "    suits = ['♣', '♦', '♥', '♠']\n",
        "    deck = [(rank, suit) for rank in RANKS for suit in suits]  # Use list comprehension to create the deck.\n",
        "    return deck\n",
        "\n",
        "# This function shuffles the deck, selects 20 cards, and deals two hands of 10 cards each.\n",
        "def deal_cards(deck):\n",
        "    random.shuffle(deck)\n",
        "    deck = deck[:20]\n",
        "    hand1 = deck[:10]  # Split into 10 cards for each hand using slicing.\n",
        "    hand2 = deck[10:]\n",
        "    return hand1, hand2\n",
        "\n",
        "def is_flush(hand):\n",
        "    \"\"\"Return True if hand contains a flush (at least 5 cards of the same suit); otherwise, return False.\"\"\"\n",
        "    # Your code here\n",
        "    suit_count = {}  # Dictionary to count suits\n",
        "    for card in hand:\n",
        "        suit = card[1]  # Extract the suit from the card (second element of the tuple)\n",
        "        if suit in suit_count:\n",
        "            suit_count[suit] += 1\n",
        "        else:\n",
        "            suit_count[suit] = 1\n",
        "\n",
        "    # Check if any suit appears 5 or more times\n",
        "    for count in suit_count.values():\n",
        "        if count >= 5:\n",
        "            return True\n",
        "\n",
        "    return False"
      ]
    },
    {
      "cell_type": "code",
      "execution_count": null,
      "metadata": {
        "id": "SaXFeg5aPP9O",
        "colab": {
          "base_uri": "https://localhost:8080/"
        },
        "outputId": "7a982642-9a51-4c18-8d0b-d7fcb34c4e19"
      },
      "outputs": [
        {
          "output_type": "stream",
          "name": "stdout",
          "text": [
            "Test data 1: True False\n",
            "Test data 2: False False\n"
          ]
        }
      ],
      "source": [
        "# Test data 1\n",
        "random.seed(2025)\n",
        "deck = create_deck()\n",
        "hand1, hand2 = deal_cards(deck)\n",
        "f1 = is_flush(hand1)\n",
        "f2 = is_flush(hand2)\n",
        "print(\"Test data 1:\", f1, f2)\n",
        "\n",
        "# Test data 2\n",
        "random.seed(20)\n",
        "deck = create_deck()\n",
        "hand1, hand2 = deal_cards(deck)\n",
        "f3 = is_flush(hand1)\n",
        "f4 = is_flush(hand2)\n",
        "print(\"Test data 2:\", f3, f4)\n",
        "\n",
        "\n",
        "assert (f1,f2) == (True, False)\n",
        "assert (f3,f4) == (False, False)"
      ]
    },
    {
      "cell_type": "markdown",
      "metadata": {
        "id": "E4MiRgFA6Xl_"
      },
      "source": [
        "### (17) Considering the following code snippet: (10%)\n",
        "\n",
        "```python\n",
        "def add_event(calendar):\n",
        "    calendar['Friday'].append('Conference')\n",
        "    print(\"Inside function:\", calendar)\n",
        "\n",
        "weekly_calendar = {'Monday': ['Meeting'], 'Friday': ['Lunch'], 'Saturday': ['Hike']}\n",
        "calendar_copy = weekly_calendar  # Modify this line so that changes inside add_event do not affect weekly_calendar.\n",
        "add_event(calendar_copy)\n",
        "print(\"Outside function:\", weekly_calendar)\n",
        "```\n",
        "\n",
        "(a) What will be printed when executing this code, and why does this happen?\n",
        "\n",
        "(b) How can you modify the assignment of `calendar_copy` so that the changes made inside `add_event` do not alter the original `weekly_calendar`?"
      ]
    },
    {
      "cell_type": "markdown",
      "metadata": {
        "id": "OdUwR5GeHeCg"
      },
      "source": [
        "> Ans: *double click here to answer the question.*"
      ]
    }
  ],
  "metadata": {
    "colab": {
      "collapsed_sections": [
        "JAXPS7xzdf0a",
        "193bVqAlgtmW"
      ],
      "provenance": [],
      "include_colab_link": true
    },
    "kernelspec": {
      "display_name": "base",
      "language": "python",
      "name": "python3"
    },
    "language_info": {
      "codemirror_mode": {
        "name": "ipython",
        "version": 3
      },
      "file_extension": ".py",
      "mimetype": "text/x-python",
      "name": "python",
      "nbconvert_exporter": "python",
      "pygments_lexer": "ipython3",
      "version": "3.9.13"
    }
  },
  "nbformat": 4,
  "nbformat_minor": 0
}