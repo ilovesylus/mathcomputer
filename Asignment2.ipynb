{
  "cells": [
    {
      "cell_type": "markdown",
      "metadata": {
        "id": "view-in-github",
        "colab_type": "text"
      },
      "source": [
        "<a href=\"https://colab.research.google.com/github/ilovesylus/mathcomputer/blob/main/Asignment2.ipynb\" target=\"_parent\"><img src=\"https://colab.research.google.com/assets/colab-badge.svg\" alt=\"Open In Colab\"/></a>"
      ]
    },
    {
      "cell_type": "markdown",
      "metadata": {
        "id": "5mOPnEzYk8E2"
      },
      "source": [
        "# Assignment 2"
      ]
    },
    {
      "cell_type": "markdown",
      "metadata": {
        "id": "MmJf_ST0k_JY"
      },
      "source": [
        "#### Student ID: *Double click to fill your student ID*\n",
        "#### Name: *Double click to fill your name*"
      ]
    },
    {
      "cell_type": "markdown",
      "metadata": {
        "id": "rUgR5kMHk_7_"
      },
      "source": [
        "### (1) What is the difference between for and while loops in Python?"
      ]
    },
    {
      "cell_type": "markdown",
      "metadata": {
        "id": "aZ_RqsMToKAa"
      },
      "source": [
        "> Ans:\n",
        "\n",
        "for:Used when you know the number of iterations beforehand or when iterating over a sequence\n",
        "\n",
        "while:Used when you don’t know the number of iterations in advance and need to repeat an action until a certain condition is met."
      ]
    },
    {
      "cell_type": "markdown",
      "metadata": {
        "id": "UmiAXKLJlDT5"
      },
      "source": [
        "### (2) Write a Python program that asks the user to enter their name and how many movies they have watched."
      ]
    },
    {
      "cell_type": "markdown",
      "source": [
        "\n",
        "*   If the number is greater than zero, the program should ask \"How many hours have you spent watching movies?\"\n",
        "  *   Then, print \"Make sure to balance your time with studying!\"\n",
        "* Otherwise, print \"Great focus on your studies! Keep up the good work!\"\n",
        "\n"
      ],
      "metadata": {
        "id": "vkSR-wtAwwjI"
      }
    },
    {
      "cell_type": "markdown",
      "source": [
        "Example Outputs:\n",
        "\n",
        "---\n",
        "**Input:**\n",
        "\n",
        "Enter your name:     \n",
        "Alice\n",
        "\n",
        "How many movies have you watched?   \n",
        "10\n",
        "\n",
        "How many hours have you spent watching movies?    \n",
        "25\n",
        "\n",
        "**Output:**   \n",
        "Make sure to balance your time with studying!\n",
        "\n",
        "---\n",
        "or\n",
        "\n",
        "---\n",
        "**Input:**   \n",
        "Enter your name:     \n",
        "Bob\n",
        "\n",
        "How many movies have you watched?    \n",
        "0\n",
        "\n",
        "**Output:**    \n",
        "Make sure to balance your time with studying!\n",
        "\n",
        "---"
      ],
      "metadata": {
        "id": "HJz6VMqHwzCO"
      }
    },
    {
      "cell_type": "code",
      "source": [
        "# coding your answer here\n",
        "name = input(\"Enter your name: \")\n",
        "num = int(input(\"How many movies have you watched?: \"))\n",
        "\n",
        "if num > 0:\n",
        "    hours = int(input(\"How many hours have you spent watching movies? \"))\n",
        "    print(\"Make sure to balance your time with studying!\")\n",
        "else:\n",
        "    print(\"Great focus on your studies! Keep up the good work!\")\n"
      ],
      "metadata": {
        "id": "FK0nKpDbwueb",
        "colab": {
          "base_uri": "https://localhost:8080/"
        },
        "outputId": "c727ab3a-af66-422d-c1e4-408b4d6bf984"
      },
      "execution_count": 2,
      "outputs": [
        {
          "output_type": "stream",
          "name": "stdout",
          "text": [
            "Enter your name: 123\n",
            "How many movies have you watched?: 2\n",
            "How many hours have you spent watching movies? 4\n",
            "Make sure to balance your time with studying!\n"
          ]
        }
      ]
    },
    {
      "cell_type": "markdown",
      "metadata": {
        "id": "vZqsi7OllF87"
      },
      "source": [
        "### (3) Which keyword is used to write a loop in Python?"
      ]
    },
    {
      "cell_type": "markdown",
      "metadata": {
        "id": "16HdbyW3y1eT"
      },
      "source": [
        "(A) loop    \n",
        "(B) repeat    \n",
        "(C) for    \n",
        "(D) Loop"
      ]
    },
    {
      "cell_type": "markdown",
      "metadata": {
        "id": "Qj9sQeRLfcfv"
      },
      "source": [
        "> Ans: C"
      ]
    },
    {
      "cell_type": "markdown",
      "metadata": {
        "id": "4BEnBohdlHg-"
      },
      "source": [
        "### (4) What is the difference between `break` and `continue` ?"
      ]
    },
    {
      "cell_type": "markdown",
      "metadata": {
        "id": "wDizCqs3fd4R"
      },
      "source": [
        "> Ans:\n",
        "\n",
        "break:exits the loop completely.\n",
        "\n",
        "continue:skips the current iteration and moves to the next one."
      ]
    },
    {
      "cell_type": "markdown",
      "metadata": {
        "id": "1fokYZnwlIyU"
      },
      "source": [
        "### (5) What will be the output of the following Python program?\n",
        "\n",
        "```\n",
        "count = 5\n",
        "\n",
        "while count > 0:\n",
        "    print(count)\n",
        "    count -= 2\n",
        "\n",
        "print(\"Loop finished!\")\n",
        "\n",
        "```"
      ]
    },
    {
      "cell_type": "markdown",
      "metadata": {
        "id": "Y9rF8BE9TiXj"
      },
      "source": [
        "(A)    \n",
        "```\n",
        "5     \n",
        "3  \n",
        "1  \n",
        "Loop finished!  \n",
        "```   \n",
        "(B)\n",
        "```\n",
        "5  \n",
        "4  \n",
        "3  \n",
        "2  \n",
        "1  \n",
        "Loop finished!    \n",
        "```  \n",
        "(C)\n",
        "```\n",
        "5  \n",
        "3  \n",
        "1  \n",
        "-1  \n",
        "Loop finished!   \n",
        "```    \n",
        "(D)\n",
        "```\n",
        "5  \n",
        "3  \n",
        "1  \n",
        "Loop finished!  \n",
        "-1      \n",
        "```"
      ]
    },
    {
      "cell_type": "markdown",
      "metadata": {
        "id": "csoW2HQSfeh6"
      },
      "source": [
        "> Ans: A"
      ]
    },
    {
      "cell_type": "markdown",
      "metadata": {
        "id": "r42O-FJNlKAy"
      },
      "source": [
        "### (6) What is the difference between range(10), range(0, 10), and range(0, 10, 1) in a for loop?"
      ]
    },
    {
      "cell_type": "markdown",
      "metadata": {
        "id": "0mfn-2AFgwMU"
      },
      "source": [
        "> Ans:\n",
        "\n",
        "range(10):\n",
        "\n",
        "Equivalent to range(0, 10, 1) but shorter.\n",
        "\n",
        "range(0, 10)\n",
        "\n",
        "Same as range(10), but allows for flexibility in changing the start value.\n",
        "\n",
        "range(0, 10, 1)\n",
        "\n",
        "Same as range(0, 10), but also allows modification of the step size."
      ]
    },
    {
      "cell_type": "markdown",
      "metadata": {
        "id": "fu9ZrdVplMey"
      },
      "source": [
        "### (7)\n",
        "1. Write a Python program that prints all even numbers from 2 to 20 using a `for` loop.\n",
        "2. Then, write an equivalent program that prints the same numbers using a `while` loop."
      ]
    },
    {
      "cell_type": "code",
      "source": [
        "# coding your answer here\n",
        "for num in range(2, 21, 2):\n",
        "    print(num)"
      ],
      "metadata": {
        "id": "BOJQYeODxsfR",
        "colab": {
          "base_uri": "https://localhost:8080/"
        },
        "outputId": "bc8d3b18-9268-4ad0-dad2-12e047ee9715"
      },
      "execution_count": 3,
      "outputs": [
        {
          "output_type": "stream",
          "name": "stdout",
          "text": [
            "2\n",
            "4\n",
            "6\n",
            "8\n",
            "10\n",
            "12\n",
            "14\n",
            "16\n",
            "18\n",
            "20\n"
          ]
        }
      ]
    },
    {
      "cell_type": "code",
      "source": [
        "num = 2  # Start at 2\n",
        "while num <= 20:  # Continue while num is 20 or less\n",
        "    print(num)\n",
        "    num += 2  # Increase by 2\n"
      ],
      "metadata": {
        "colab": {
          "base_uri": "https://localhost:8080/"
        },
        "id": "04c4dRyGylI-",
        "outputId": "8f708790-cebd-4205-c1f8-5f739853818a"
      },
      "execution_count": 4,
      "outputs": [
        {
          "output_type": "stream",
          "name": "stdout",
          "text": [
            "2\n",
            "4\n",
            "6\n",
            "8\n",
            "10\n",
            "12\n",
            "14\n",
            "16\n",
            "18\n",
            "20\n"
          ]
        }
      ]
    },
    {
      "cell_type": "markdown",
      "metadata": {
        "id": "6sohweLHlLJ5"
      },
      "source": [
        "### (8) When does the code in a `function` execute: when the `function` is defined or when the `function` is called?"
      ]
    },
    {
      "cell_type": "markdown",
      "metadata": {
        "id": "mH9mgsPniQ6E"
      },
      "source": [
        "> Ans: The code inside a function executes only when the function is called, not when it is defined."
      ]
    },
    {
      "cell_type": "markdown",
      "metadata": {
        "id": "rI8KG_yylN5d"
      },
      "source": [
        "### (9) Why are functions advantageous to have in your programs?"
      ]
    },
    {
      "cell_type": "markdown",
      "source": [
        "> Ans:\n",
        "\n",
        "1. Code Reusability\n",
        "\n",
        "2. Improved Readability and Organization\n",
        "\n",
        "3. Easier Debugging\n",
        "\n",
        "4. Avoiding Code Duplication\n",
        "\n",
        "5. Enables Modular Programming\n",
        "\n",
        "6. Allows Function Composition"
      ],
      "metadata": {
        "id": "rqHkG_Cex2VG"
      }
    },
    {
      "cell_type": "markdown",
      "metadata": {
        "id": "PrFl8dpAlPCw"
      },
      "source": [
        "### (10) Write a function that prints the multiplication table for a given number using a loop.\n",
        "\n",
        "* Define a function `print_multiplication_table(n)` that prints the multiplication table of `n` from `1` to `10`.\n",
        "* The function should use a **`for ` loop** to iterate through numbers `1` to `10`.\n",
        "* Ask the user to input a number and then call the function with the user-provided value."
      ]
    },
    {
      "cell_type": "markdown",
      "metadata": {
        "id": "nAkf5DCLkfmp"
      },
      "source": [
        "sample output\n",
        "\n",
        "---\n",
        "**Input:**   \n",
        "Enter a number:   \n",
        "5     \n",
        "\n",
        "\n",
        "---\n",
        "**Output:**     \n",
        "5 x 1 = 5         \n",
        "5 x 2 = 10               \n",
        "5 x 3 = 15           \n",
        "5 x 4 = 20       \n",
        "5 x 5 = 25         \n",
        "5 x 6 = 30           \n",
        "5 x 7 = 35          \n",
        "5 x 8 = 40          \n",
        "5 x 9 = 45           \n",
        "5 x 10 = 50           \n",
        "\n",
        "---"
      ]
    },
    {
      "cell_type": "code",
      "execution_count": 5,
      "metadata": {
        "id": "XAIhZ1xDlmQV",
        "colab": {
          "base_uri": "https://localhost:8080/"
        },
        "outputId": "41573472-53ca-4101-c5a1-e617f542bba9"
      },
      "outputs": [
        {
          "output_type": "stream",
          "name": "stdout",
          "text": [
            "Enter a number to print its multiplication table: 5\n",
            "5 x 1 = 5\n",
            "5 x 2 = 10\n",
            "5 x 3 = 15\n",
            "5 x 4 = 20\n",
            "5 x 5 = 25\n",
            "5 x 6 = 30\n",
            "5 x 7 = 35\n",
            "5 x 8 = 40\n",
            "5 x 9 = 45\n",
            "5 x 10 = 50\n"
          ]
        }
      ],
      "source": [
        "# coding your answer here\n",
        "def print_multiplication_table(n):\n",
        "    for i in range(1, 11):\n",
        "        print(f\"{n} x {i} = {n * i}\")\n",
        "\n",
        "number = int(input(\"Enter a number to print its multiplication table: \"))\n",
        "\n",
        "print_multiplication_table(number)\n"
      ]
    }
  ],
  "metadata": {
    "colab": {
      "provenance": [],
      "include_colab_link": true
    },
    "kernelspec": {
      "display_name": "Python 3",
      "name": "python3"
    },
    "language_info": {
      "name": "python"
    }
  },
  "nbformat": 4,
  "nbformat_minor": 0
}