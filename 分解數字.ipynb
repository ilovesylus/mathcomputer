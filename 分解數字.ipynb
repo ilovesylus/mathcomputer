{
  "nbformat": 4,
  "nbformat_minor": 0,
  "metadata": {
    "colab": {
      "provenance": [],
      "authorship_tag": "ABX9TyMAtcr8UIJj/AOOrVtwxgBg",
      "include_colab_link": true
    },
    "kernelspec": {
      "name": "python3",
      "display_name": "Python 3"
    },
    "language_info": {
      "name": "python"
    }
  },
  "cells": [
    {
      "cell_type": "markdown",
      "metadata": {
        "id": "view-in-github",
        "colab_type": "text"
      },
      "source": [
        "<a href=\"https://colab.research.google.com/github/ilovesylus/mathcomputer/blob/main/%E5%88%86%E8%A7%A3%E6%95%B8%E5%AD%97.ipynb\" target=\"_parent\"><img src=\"https://colab.research.google.com/assets/colab-badge.svg\" alt=\"Open In Colab\"/></a>"
      ]
    },
    {
      "cell_type": "code",
      "source": [
        "# Get the user's input from their keyboard and convert it to string\n",
        "x = input('Enter a 5 digit integer: ')\n",
        "\n",
        "# Extract each digit as a character from the string\n",
        "a, b, c, d, e = x\n",
        "\n",
        "# Print out the results\n",
        "print(a, '   ', b, '   ', c, '   ', d, '   ', e)\n"
      ],
      "metadata": {
        "colab": {
          "base_uri": "https://localhost:8080/"
        },
        "id": "8bYq30SALvVX",
        "outputId": "94a8973a-2b68-42b7-d973-dcc709e435d6"
      },
      "execution_count": 11,
      "outputs": [
        {
          "output_type": "stream",
          "name": "stdout",
          "text": [
            "Enter a 5 digit integer: 42339\n",
            "4     2     3     3     9\n"
          ]
        }
      ]
    },
    {
      "cell_type": "code",
      "source": [
        "# Your answer here\n",
        "# x=42339\n",
        "# Get the user's input from their keyboard and convert it to integer:\n",
        "x = int(input('Enter a 5 digit integer'))\n",
        "# Get the last digit by remainder\n",
        "digits4 = x % 10\n",
        "# Perform floor division and get the remainig digits\n",
        "x = x // 10\n",
        "digits3 = x % 10\n",
        "x = x // 10\n",
        "digits2 = x % 10\n",
        "x = x // 10\n",
        "digits1 = x % 10\n",
        "x = x // 10\n",
        "digits0 = x % 10\n",
        "\n",
        "# Print out the results\n",
        "print(digits0,'   ',digits1,'   ',digits2,'   ',digits3,'   ',digits4)"
      ],
      "metadata": {
        "colab": {
          "base_uri": "https://localhost:8080/"
        },
        "id": "sddLC6u5PBuR",
        "outputId": "5c1a9f6b-9cc7-4bf3-cdf8-f7195ad4a7d0"
      },
      "execution_count": 13,
      "outputs": [
        {
          "output_type": "stream",
          "name": "stdout",
          "text": [
            "Enter a 5 digit integer42339\n",
            "4     2     3     3     9\n"
          ]
        }
      ]
    }
  ]
}