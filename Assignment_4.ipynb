{
  "cells": [
    {
      "cell_type": "markdown",
      "metadata": {
        "id": "view-in-github",
        "colab_type": "text"
      },
      "source": [
        "<a href=\"https://colab.research.google.com/github/ilovesylus/mathcomputer/blob/main/Assignment_4.ipynb\" target=\"_parent\"><img src=\"https://colab.research.google.com/assets/colab-badge.svg\" alt=\"Open In Colab\"/></a>"
      ]
    },
    {
      "cell_type": "markdown",
      "metadata": {
        "id": "1HwWYZ_ZVdj9"
      },
      "source": [
        "# Assignment 4"
      ]
    },
    {
      "cell_type": "markdown",
      "metadata": {
        "id": "iXqDl6HwVnSY"
      },
      "source": [
        "#### Student ID: b132045005\n",
        "\n",
        "\n",
        "#### Name: 李子玉\n"
      ]
    },
    {
      "cell_type": "markdown",
      "metadata": {
        "id": "6CJr3y1XVsSo"
      },
      "source": [
        "### (1) Suppose *spam* contains the list ['a', 'b', 'c', 'd']. What does `spam[int(int('2' * 2) // 11)]` evaluate to?"
      ]
    },
    {
      "cell_type": "markdown",
      "metadata": {
        "id": "Z9rkExU6WHbg"
      },
      "source": [
        "(A) 'a'   \n",
        "(B) 'b'   \n",
        "(C) 'c'   \n",
        "(D) 'd'"
      ]
    },
    {
      "cell_type": "markdown",
      "metadata": {
        "id": "2piyAB4AV_ms"
      },
      "source": [
        "> Ans: C"
      ]
    },
    {
      "cell_type": "markdown",
      "metadata": {
        "id": "N9G3ZewmVvF1"
      },
      "source": [
        "### (2) Suppose bacon contains the list [2.71, 'Alice', 25, 'Bob', False]. What does bacon.append(200) do to the list value in bacon?"
      ]
    },
    {
      "cell_type": "markdown",
      "metadata": {
        "id": "aL7fOXAPWLYd"
      },
      "source": [
        "(A) [200, 2.71, 'Alice', 25, 'Bob', False]    \n",
        "(B) [2.71, 'Alice', 25, 'Bob', False]     \n",
        "(C) [2.71, 'Alice', 25, 'Bob', False, 200]      \n",
        "(D) None of the above"
      ]
    },
    {
      "cell_type": "markdown",
      "metadata": {
        "id": "mRasN4o_WBrO"
      },
      "source": [
        "> Ans: C"
      ]
    },
    {
      "cell_type": "markdown",
      "metadata": {
        "id": "ORZFOZOsVvLc"
      },
      "source": [
        "### (3) How would you assign the value 'world' as the third value in a list stored in a variable named devices?"
      ]
    },
    {
      "cell_type": "markdown",
      "metadata": {
        "id": "xV1pahqLWLpV"
      },
      "source": [
        "(A) devices[3] <- 'world'    \n",
        "(B) devices[3] == 'world'         \n",
        "(C) devices[2] = 'world'          \n",
        "(D) devices[2] == 'world'  "
      ]
    },
    {
      "cell_type": "markdown",
      "metadata": {
        "id": "fiiAGODjWCDV"
      },
      "source": [
        "> Ans: C"
      ]
    },
    {
      "cell_type": "markdown",
      "metadata": {
        "id": "6mNHsscFVvPt"
      },
      "source": [
        "### (4) What is ()?"
      ]
    },
    {
      "cell_type": "markdown",
      "metadata": {
        "id": "XckQY3xYWL3U"
      },
      "source": [
        "(A) dictionary   \n",
        "(B) tuple   \n",
        "(C) list   \n",
        "(D) dataframe"
      ]
    },
    {
      "cell_type": "markdown",
      "metadata": {
        "id": "XjYAvzfXWCOm"
      },
      "source": [
        "> Ans: B"
      ]
    },
    {
      "cell_type": "markdown",
      "metadata": {
        "id": "5jEgJxAgVvTM"
      },
      "source": [
        "### (5) What are the operators for list concatenation and list replication?"
      ]
    },
    {
      "cell_type": "markdown",
      "metadata": {
        "id": "JLZDukBgWMIl"
      },
      "source": [
        "(A) -, /    \n",
        "(B) +, **    \n",
        "(C) +, *   \n",
        "(D) -, //  "
      ]
    },
    {
      "cell_type": "markdown",
      "metadata": {
        "id": "S9iusG6nWCZW"
      },
      "source": [
        "> Ans: C\n"
      ]
    },
    {
      "cell_type": "markdown",
      "metadata": {
        "id": "vzsPJM2VVvWf"
      },
      "source": [
        "### (6) What are two ways to remove values from a list?"
      ]
    },
    {
      "cell_type": "markdown",
      "metadata": {
        "id": "uzWM0LYCWCtN"
      },
      "source": [
        "> Ans: remove(value)、pop(index)"
      ]
    },
    {
      "cell_type": "markdown",
      "metadata": {
        "id": "8so6-SrnVvZs"
      },
      "source": [
        "### (7) What is the difference between lists and tuples?"
      ]
    },
    {
      "cell_type": "markdown",
      "metadata": {
        "id": "F7g5GJojWC3t"
      },
      "source": [
        "> Ans:\n",
        "\n",
        "List → Mutable, uses [], can add, remove, or change elements, slower.Use a list when you need to modify data.\n",
        "\n",
        "Tuple → Immutable, uses (), cannot be changed, faster.\n",
        " Use a tuple when data should stay the same"
      ]
    },
    {
      "cell_type": "markdown",
      "metadata": {
        "id": "tbr4YKdNVvc1"
      },
      "source": [
        "### (8) How can you get the tuple form of a list value? How can you get the list form of a tuple value?"
      ]
    },
    {
      "cell_type": "markdown",
      "metadata": {
        "id": "8e2DD_E3WDC8"
      },
      "source": [
        "> Ans:\n",
        "\n",
        "Convert a List to a Tuple → Use tuple()\n",
        "\n",
        "EX.\n",
        "\n",
        "my_list = [1, 2, 3]\n",
        "\n",
        "my_tuple = tuple(my_list)  # Converts list to tuple\n",
        "\n",
        "print(my_tuple)  # Output: (1, 2, 3)\n",
        "\n",
        "\n",
        "---\n",
        "\n",
        "\n",
        "Convert a Tuple to a List → Use list()\n",
        "\n",
        "EX.\n",
        "\n",
        "my_tuple = (4, 5, 6)\n",
        "\n",
        "my_list = list(my_tuple)  # Converts tuple to list\n",
        "\n",
        "print(my_list)  # Output: [4, 5, 6]\n"
      ]
    },
    {
      "cell_type": "markdown",
      "metadata": {
        "id": "WVoft9o1V6YO"
      },
      "source": [
        "### (9) Write a function that takes a list value as an argument and returns a string with all the items separated by a comma and a space, with and inserted before the last item."
      ]
    },
    {
      "cell_type": "markdown",
      "source": [
        "**Sample Output:**     \n",
        "If you enter the list `['Physics', 'biology', 'chemistry']` , you should get `Physics, biology, and chemistry`."
      ],
      "metadata": {
        "id": "6C6tUV8phsh-"
      }
    },
    {
      "cell_type": "code",
      "source": [
        "def list_to_string(spam):\n",
        "    \"\"\"\n",
        "    Parameters\n",
        "    ----------\n",
        "    spam: list\n",
        "        The input list.\n",
        "    Returns\n",
        "    -------\n",
        "    string: str\n",
        "        The output string.\n",
        "    \"\"\"\n",
        "    # Check if the list has only one item\n",
        "    if len(spam) == 1:\n",
        "        return spam[0]\n",
        "\n",
        "    # Check if the list has exactly two items\n",
        "    elif len(spam) == 2:\n",
        "        return ' and '.join(spam)\n",
        "\n",
        "    # For lists with more than two items\n",
        "    else:\n",
        "        return ', '.join(spam[:-1]) + ', and ' + spam[-1]\n",
        "subjects = ['Physics', 'biology', 'chemistry']\n",
        "result = list_to_string(subjects)\n",
        "print(result)"
      ],
      "metadata": {
        "colab": {
          "base_uri": "https://localhost:8080/"
        },
        "id": "THXiLvDlSwnh",
        "outputId": "b2a19d73-facf-4e3f-aa07-5d957db25cb7"
      },
      "execution_count": 14,
      "outputs": [
        {
          "output_type": "stream",
          "name": "stdout",
          "text": [
            "Physics, biology, and chemistry\n"
          ]
        }
      ]
    },
    {
      "cell_type": "markdown",
      "metadata": {
        "id": "7zoBsG7YV6bs"
      },
      "source": [
        "### (10) Say you have a list of lists, `grid`, where each value in the inner lists is a one-character string. Copy the grid value and write code that uses it to print the image."
      ]
    },
    {
      "cell_type": "code",
      "source": [
        "grid = [['.', '.', '.', '.', '.', '.'],\n",
        "        ['.', 'O', 'O', '.', '.', '.'],\n",
        "        ['O', 'O', 'O', 'O', '.', '.'],\n",
        "        ['O', 'O', 'O', 'O', 'O', '.'],\n",
        "        ['.', 'O', 'O', 'O', 'O', 'O'],\n",
        "        ['O', 'O', 'O', 'O', 'O', '.'],\n",
        "        ['O', 'O', 'O', 'O', '.', '.'],\n",
        "        ['.', 'O', 'O', '.', '.', '.'],\n",
        "        ['.', '.', '.', '.', '.', '.']]"
      ],
      "metadata": {
        "id": "_cXQulfFhzVZ"
      },
      "execution_count": 15,
      "outputs": []
    },
    {
      "cell_type": "markdown",
      "metadata": {
        "id": "iNIoUCxFlRhf"
      },
      "source": [
        "**sample output**\n",
        "\n",
        "---\n",
        ". . 00 . 00 . .   \n",
        ". 0000000 .   \n",
        ". 0000000 .   \n",
        ". . 00000 . .   \n",
        ". . . 000 . . .   \n",
        ". . . . 0 . . . .\n",
        "\n",
        "---"
      ]
    },
    {
      "cell_type": "code",
      "execution_count": 18,
      "metadata": {
        "id": "tXRvm8y1VZCU",
        "colab": {
          "base_uri": "https://localhost:8080/"
        },
        "outputId": "2d00b335-0597-46f5-dfe0-291e99a0b52c"
      },
      "outputs": [
        {
          "output_type": "stream",
          "name": "stdout",
          "text": [
            "......\n",
            ".OO...\n",
            "OOOO..\n",
            "OOOOO.\n",
            ".OOOOO\n",
            "OOOOO.\n",
            "OOOO..\n",
            ".OO...\n",
            "......\n"
          ]
        }
      ],
      "source": [
        "# coding your answer here\n",
        "grid = [['.', '.', '.', '.', '.', '.'],\n",
        "        ['.', 'O', 'O', '.', '.', '.'],\n",
        "        ['O', 'O', 'O', 'O', '.', '.'],\n",
        "        ['O', 'O', 'O', 'O', 'O', '.'],\n",
        "        ['.', 'O', 'O', 'O', 'O', 'O'],\n",
        "        ['O', 'O', 'O', 'O', 'O', '.'],\n",
        "        ['O', 'O', 'O', 'O', '.', '.'],\n",
        "        ['.', 'O', 'O', '.', '.', '.'],\n",
        "        ['.', '.', '.', '.', '.', '.']]\n",
        "\n",
        "# Loop through each row in the grid\n",
        "for row in grid:\n",
        "    # Print each row as a string by joining the characters\n",
        "    print(''.join(row))\n"
      ]
    }
  ],
  "metadata": {
    "colab": {
      "provenance": [],
      "include_colab_link": true
    },
    "kernelspec": {
      "display_name": "Python 3",
      "name": "python3"
    },
    "language_info": {
      "name": "python"
    }
  },
  "nbformat": 4,
  "nbformat_minor": 0
}